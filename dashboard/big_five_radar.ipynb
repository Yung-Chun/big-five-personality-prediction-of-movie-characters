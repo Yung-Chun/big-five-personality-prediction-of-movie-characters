{
 "cells": [
  {
   "cell_type": "code",
   "execution_count": 2,
   "id": "5ca8153f",
   "metadata": {},
   "outputs": [],
   "source": [
    "import pandas as pd\n",
    "import csv\n",
    "import matplotlib.pyplot as plt\n",
    "import plotly.express as px\n",
    "import plotly.graph_objects as go\n",
    "import re\n",
    "from pathlib import Path\n",
    "import os\n",
    "import time"
   ]
  },
  {
   "cell_type": "code",
   "execution_count": 2,
   "id": "f1467423",
   "metadata": {},
   "outputs": [],
   "source": [
    "root_path = Path(fr'/Users/ycchen/Desktop/UCSD_CSS/summer_project/')"
   ]
  },
  {
   "cell_type": "code",
   "execution_count": 5,
   "id": "afa6f282",
   "metadata": {},
   "outputs": [],
   "source": [
    "data = pd.read_csv('/Users/shumu/Documents/playground/movie_script_web/movie_char_big_five_predict_result_organized.csv')"
   ]
  },
  {
   "cell_type": "code",
   "execution_count": 6,
   "id": "3f80096c",
   "metadata": {},
   "outputs": [
    {
     "data": {
      "text/plain": [
       "Index(['movie_name', 'char', 'Extraversion', 'Neuroticism', 'Agreeableness',\n",
       "       'Conscientiousness', 'Openness'],\n",
       "      dtype='object')"
      ]
     },
     "execution_count": 6,
     "metadata": {},
     "output_type": "execute_result"
    }
   ],
   "source": [
    "data.columns"
   ]
  },
  {
   "cell_type": "code",
   "execution_count": 44,
   "id": "458e1837",
   "metadata": {},
   "outputs": [
    {
     "name": "stdout",
     "output_type": "stream",
     "text": [
      "['Rickey', 'Parrott', 'Jack', 'Rachel', 'Smith', 'Durocher', 'Reese']\n"
     ]
    }
   ],
   "source": [
    "# def select_movie(movie_name):\n",
    "#     char_lst = data.query(f\"movie_name == '{movie_name}'\")['char'].to_list()\n",
    "#     print(char_lst)\n",
    "#     return char_lst\n",
    "    \n",
    "# select('42')"
   ]
  },
  {
   "cell_type": "code",
   "execution_count": 8,
   "id": "0ec10b2b",
   "metadata": {},
   "outputs": [],
   "source": [
    "movie_name = 'Hancock'\n",
    "char = 'Mary'"
   ]
  },
  {
   "cell_type": "code",
   "execution_count": 7,
   "id": "eb3aa5ca",
   "metadata": {},
   "outputs": [
    {
     "ename": "NameError",
     "evalue": "name 'movie_name' is not defined",
     "output_type": "error",
     "traceback": [
      "\u001b[0;31m---------------------------------------------------------------------------\u001b[0m",
      "\u001b[0;31mNameError\u001b[0m                                 Traceback (most recent call last)",
      "Cell \u001b[0;32mIn[7], line 4\u001b[0m\n\u001b[1;32m      1\u001b[0m personality_prob \u001b[39m=\u001b[39m [\u001b[39m'\u001b[39m\u001b[39mExtraversion\u001b[39m\u001b[39m'\u001b[39m, \u001b[39m'\u001b[39m\u001b[39mNeuroticism\u001b[39m\u001b[39m'\u001b[39m, \u001b[39m'\u001b[39m\u001b[39mAgreeableness\u001b[39m\u001b[39m'\u001b[39m,\n\u001b[1;32m      2\u001b[0m                     \u001b[39m'\u001b[39m\u001b[39mConscientiousness\u001b[39m\u001b[39m'\u001b[39m, \u001b[39m'\u001b[39m\u001b[39mOpenness\u001b[39m\u001b[39m'\u001b[39m]\n\u001b[0;32m----> 4\u001b[0m prob \u001b[39m=\u001b[39m data\u001b[39m.\u001b[39mquery(\u001b[39mf\u001b[39m\u001b[39m'\u001b[39m\u001b[39mmovie_name == \u001b[39m\u001b[39m\"\u001b[39m\u001b[39m{\u001b[39;00mmovie_name\u001b[39m}\u001b[39;00m\u001b[39m\"\u001b[39m\u001b[39m'\u001b[39m)\u001b[39m.\u001b[39mquery(\n\u001b[1;32m      5\u001b[0m     \u001b[39mf\u001b[39m\u001b[39m'\u001b[39m\u001b[39mchar == \u001b[39m\u001b[39m\"\u001b[39m\u001b[39m{\u001b[39;00mchar\u001b[39m}\u001b[39;00m\u001b[39m\"\u001b[39m\u001b[39m'\u001b[39m)[personality_prob]\u001b[39m.\u001b[39miloc[\u001b[39m0\u001b[39m]\u001b[39m.\u001b[39mto_list()\n\u001b[1;32m      6\u001b[0m fig \u001b[39m=\u001b[39m px\u001b[39m.\u001b[39mline_polar(r\u001b[39m=\u001b[39mprob,\n\u001b[1;32m      7\u001b[0m                     theta\u001b[39m=\u001b[39mpersonality_prob,\n\u001b[1;32m      8\u001b[0m                     \u001b[39m#                     hover_name = personality_prob,\u001b[39;00m\n\u001b[0;32m   (...)\u001b[0m\n\u001b[1;32m     12\u001b[0m \n\u001b[1;32m     13\u001b[0m                     )\n\u001b[1;32m     15\u001b[0m fig\u001b[39m.\u001b[39mupdate_traces(fill\u001b[39m=\u001b[39m\u001b[39m'\u001b[39m\u001b[39mtoself\u001b[39m\u001b[39m'\u001b[39m)\n",
      "\u001b[0;31mNameError\u001b[0m: name 'movie_name' is not defined"
     ]
    }
   ],
   "source": [
    "personality_prob = ['Extraversion', 'Neuroticism', 'Agreeableness',\n",
    "                    'Conscientiousness', 'Openness']\n",
    "\n",
    "prob = data.query(f'movie_name == \"{movie_name}\"').query(\n",
    "    f'char == \"{char}\"')[personality_prob].iloc[0].to_list()\n",
    "fig = px.line_polar(r=prob,\n",
    "                    theta=personality_prob,\n",
    "                    #                     hover_name = personality_prob,\n",
    "                    line_close=True,\n",
    "                    color_discrete_sequence=['lightcoral'],\n",
    "                    template='plotly_dark',\n",
    "\n",
    "                    )\n",
    "\n",
    "fig.update_traces(fill='toself')\n",
    "\n",
    "\n",
    "fig.update_polars(angularaxis_showgrid=True,\n",
    "                  radialaxis_gridwidth=0,\n",
    "                  gridshape='linear',\n",
    "                  bgcolor=\"#494b5a\",\n",
    "                  radialaxis_showticklabels=True\n",
    "                  )\n",
    "\n",
    "fig.update_polars(angularaxis_dtick='')\n",
    "\n",
    "fig.update_layout(\n",
    "    font=dict(\n",
    "        size=14,  # Set the font size here\n",
    "    ),\n",
    "    paper_bgcolor=\"#2c2f36\",\n",
    "    polar=dict(\n",
    "        radialaxis=dict(\n",
    "            visible=True,\n",
    "            range=[0, 1]\n",
    "        ),\n",
    "    ),\n",
    "    showlegend=False\n",
    ")\n",
    "\n",
    "fig.show()"
   ]
  },
  {
   "cell_type": "code",
   "execution_count": 6,
   "id": "e36552cb",
   "metadata": {},
   "outputs": [
    {
     "data": {
      "text/html": [
       "<div>\n",
       "<style scoped>\n",
       "    .dataframe tbody tr th:only-of-type {\n",
       "        vertical-align: middle;\n",
       "    }\n",
       "\n",
       "    .dataframe tbody tr th {\n",
       "        vertical-align: top;\n",
       "    }\n",
       "\n",
       "    .dataframe thead th {\n",
       "        text-align: right;\n",
       "    }\n",
       "</style>\n",
       "<table border=\"1\" class=\"dataframe\">\n",
       "  <thead>\n",
       "    <tr style=\"text-align: right;\">\n",
       "      <th></th>\n",
       "      <th>movie_name</th>\n",
       "      <th>char</th>\n",
       "      <th>Extraversion</th>\n",
       "      <th>Neuroticism</th>\n",
       "      <th>Agreeableness</th>\n",
       "      <th>Conscientiousness</th>\n",
       "      <th>Openness</th>\n",
       "    </tr>\n",
       "  </thead>\n",
       "  <tbody>\n",
       "    <tr>\n",
       "      <th>0</th>\n",
       "      <td>Hancock</td>\n",
       "      <td>Mary</td>\n",
       "      <td>0.461877</td>\n",
       "      <td>0.602203</td>\n",
       "      <td>0.452815</td>\n",
       "      <td>0.401725</td>\n",
       "      <td>0.782997</td>\n",
       "    </tr>\n",
       "    <tr>\n",
       "      <th>1</th>\n",
       "      <td>Hancock</td>\n",
       "      <td>Hancock</td>\n",
       "      <td>0.507997</td>\n",
       "      <td>0.435624</td>\n",
       "      <td>0.444316</td>\n",
       "      <td>0.403267</td>\n",
       "      <td>0.839295</td>\n",
       "    </tr>\n",
       "    <tr>\n",
       "      <th>2</th>\n",
       "      <td>Hancock</td>\n",
       "      <td>Horus</td>\n",
       "      <td>0.397565</td>\n",
       "      <td>0.541924</td>\n",
       "      <td>0.475272</td>\n",
       "      <td>0.500000</td>\n",
       "      <td>0.783525</td>\n",
       "    </tr>\n",
       "    <tr>\n",
       "      <th>3</th>\n",
       "      <td>Hancock</td>\n",
       "      <td>Aaron</td>\n",
       "      <td>0.448119</td>\n",
       "      <td>0.589535</td>\n",
       "      <td>0.477926</td>\n",
       "      <td>0.452245</td>\n",
       "      <td>0.795215</td>\n",
       "    </tr>\n",
       "  </tbody>\n",
       "</table>\n",
       "</div>"
      ],
      "text/plain": [
       "  movie_name     char  Extraversion  Neuroticism  Agreeableness  \\\n",
       "0    Hancock     Mary      0.461877     0.602203       0.452815   \n",
       "1    Hancock  Hancock      0.507997     0.435624       0.444316   \n",
       "2    Hancock    Horus      0.397565     0.541924       0.475272   \n",
       "3    Hancock    Aaron      0.448119     0.589535       0.477926   \n",
       "\n",
       "   Conscientiousness  Openness  \n",
       "0           0.401725  0.782997  \n",
       "1           0.403267  0.839295  \n",
       "2           0.500000  0.783525  \n",
       "3           0.452245  0.795215  "
      ]
     },
     "execution_count": 6,
     "metadata": {},
     "output_type": "execute_result"
    }
   ],
   "source": [
    "data = pd.read_csv('./movie_char_big_five_predict_result_organized.csv')\n",
    "\n",
    "data[data['movie_name'] == \"Hancock\"]"
   ]
  },
  {
   "cell_type": "code",
   "execution_count": null,
   "id": "1c12933d",
   "metadata": {},
   "outputs": [],
   "source": []
  }
 ],
 "metadata": {
  "kernelspec": {
   "display_name": "Python 3 (ipykernel)",
   "language": "python",
   "name": "python3"
  },
  "language_info": {
   "codemirror_mode": {
    "name": "ipython",
    "version": 3
   },
   "file_extension": ".py",
   "mimetype": "text/x-python",
   "name": "python",
   "nbconvert_exporter": "python",
   "pygments_lexer": "ipython3",
   "version": "3.10.12"
  },
  "varInspector": {
   "cols": {
    "lenName": 16,
    "lenType": 16,
    "lenVar": 40
   },
   "kernels_config": {
    "python": {
     "delete_cmd_postfix": "",
     "delete_cmd_prefix": "del ",
     "library": "var_list.py",
     "varRefreshCmd": "print(var_dic_list())"
    },
    "r": {
     "delete_cmd_postfix": ") ",
     "delete_cmd_prefix": "rm(",
     "library": "var_list.r",
     "varRefreshCmd": "cat(var_dic_list()) "
    }
   },
   "types_to_exclude": [
    "module",
    "function",
    "builtin_function_or_method",
    "instance",
    "_Feature"
   ],
   "window_display": false
  }
 },
 "nbformat": 4,
 "nbformat_minor": 5
}
